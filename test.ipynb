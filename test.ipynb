{
 "cells": [
  {
   "cell_type": "code",
   "execution_count": 12,
   "metadata": {},
   "outputs": [
    {
     "data": {
      "application/vnd.jupyter.widget-view+json": {
       "model_id": "bc7e675fa6184b45928a9570e06c4837",
       "version_major": 2,
       "version_minor": 0
      },
      "text/plain": [
       "Downloading:   0%|          | 0.00/466k [00:00<?, ?B/s]"
      ]
     },
     "metadata": {},
     "output_type": "display_data"
    }
   ],
   "source": [
    "# !pip install transformers[sentencepiece] datasets\n",
    "from transformers import DataCollatorForSeq2Seq\n",
    "from transformers import Seq2SeqTrainingArguments\n",
    "from transformers import Seq2SeqTrainer\n",
    "from datasets import load_dataset\n",
    "import torch.nn as nn\n",
    "from transformers import AutoTokenizer\n",
    "import numpy as np\n",
    "import warnings\n",
    "import os\n",
    "import logging\n",
    "from transformer_block import Transformer\n",
    "warnings.filterwarnings('ignore')\n",
    "logging.disable(logging.WARNING)\n",
    "os.environ['CUDA_LAUNCH_BLOCKING'] = \"1\"\n",
    "\n",
    "save_path = r'D:\\00mydataset\\huggingface dataset'\n",
    "model_path = r'D:\\00mydataset\\huggingface model'\n",
    "\n",
    "max_length = 512\n",
    "model = Transformer(59514, 59514, 784, 7, 2)\n",
    "raw_datasets = load_dataset('news_commentary', 'en-fr', cache_dir=save_path)\n",
    "model_checkpoint = \"Helsinki-NLP/opus-mt-en-fr\"\n",
    "tokenizer = AutoTokenizer.from_pretrained('bert-base-uncased', return_tensors=\"pt\")\n",
    "split_datasets = raw_datasets[\"train\"].train_test_split(train_size=0.9, seed=20)\n"
   ]
  },
  {
   "cell_type": "code",
   "execution_count": null,
   "metadata": {},
   "outputs": [],
   "source": [
    "def preprocess_function(examples):\n",
    "    inputs = [ex[\"en\"] for ex in examples[\"translation\"]]\n",
    "    targets = [ex[\"fr\"] for ex in examples[\"translation\"]]\n",
    "    model_inputs = tokenizer(inputs, pad=max_length, max_length=max_length, truncation=True)\n",
    "\n",
    "    # Set up the tokenizer for targets\n",
    "    with tokenizer.as_target_tokenizer():\n",
    "        labels = tokenizer(targets, pad=max_length, max_length=max_length, truncation=True)\n",
    "\n",
    "    model_inputs[\"labels\"] = labels[\"input_ids\"]\n",
    "    return model_inputs\n",
    "\n",
    "tokenized_datasets = split_datasets.map(\n",
    "    preprocess_function,\n",
    "    batched=True,\n",
    "    remove_columns=split_datasets[\"train\"].column_names,)\n",
    "\n",
    "tokenized_datasets[\"validation\"] = tokenized_datasets.pop(\"test\")\n",
    "\n",
    "data_collator = DataCollatorForSeq2Seq(tokenizer, model=model)"
   ]
  },
  {
   "cell_type": "code",
   "execution_count": null,
   "metadata": {},
   "outputs": [],
   "source": [
    "from torch.utils.data import DataLoader\n",
    "from transformers import AdamW\n",
    "\n",
    "tokenized_datasets.set_format(\"torch\")\n",
    "train_dataloader = DataLoader(\n",
    "    tokenized_datasets[\"train\"],\n",
    "    shuffle=True,\n",
    "    collate_fn=data_collator, # 就是上面的DataCollatorForSeq2Seq(tokenizer, model=model)\n",
    "    batch_size=8,\n",
    ")\n",
    "eval_dataloader = DataLoader(\n",
    "    tokenized_datasets[\"validation\"], collate_fn=data_collator, batch_size=8\n",
    ")\n",
    "\n",
    "\n",
    "optimizer = AdamW(model.parameters(), lr=2e-5)\n",
    "criterion = nn.CrossEntropyLoss()"
   ]
  },
  {
   "cell_type": "code",
   "execution_count": null,
   "metadata": {},
   "outputs": [],
   "source": [
    "from transformers import get_scheduler\n",
    "\n",
    "num_train_epochs = 3\n",
    "num_update_steps_per_epoch = len(train_dataloader)\n",
    "num_training_steps = num_train_epochs * num_update_steps_per_epoch\n",
    "\n",
    "lr_scheduler = get_scheduler(\n",
    "    \"linear\",\n",
    "    optimizer=optimizer,\n",
    "    num_warmup_steps=0,\n",
    "    num_training_steps=num_training_steps,\n",
    ")"
   ]
  },
  {
   "cell_type": "code",
   "execution_count": null,
   "metadata": {},
   "outputs": [],
   "source": [
    "from tqdm.auto import tqdm\n",
    "\n",
    "progress_bar = tqdm(range(num_training_steps))\n",
    "\n",
    "for epoch in range(num_train_epochs):\n",
    "\n",
    "  print(f'-----------{epoch} epoch---------')\n",
    "  # Training\n",
    "  model.train()\n",
    "  train_loss = 0\n",
    "  valid_loss = 0\n",
    "  for batch in train_dataloader:\n",
    "      labels = batch['labels'].masked_fill(batch['labels'] == -100, 0)\n",
    "      y = batch['labels']\n",
    "      x = batch['input_ids']\n",
    "\n",
    "      outputs = model(x, labels)\n",
    "      # print(outputs, batch['labels'])\n",
    "      loss = criterion(outputs.view(-1, outputs.shape[-1]), y.view(-1))\n",
    "      train_loss += loss\n",
    "      loss.backward()\n",
    "\n",
    "      optimizer.step()\n",
    "      lr_scheduler.step()\n",
    "      optimizer.zero_grad()\n",
    "      progress_bar.update(1)\n",
    "      \n",
    "  print(f'{epoch} train loss {train_loss/len(train_dataloader)}')\n",
    "  \n",
    "  # Evaluation\n",
    "  model.eval()\n",
    "  for batch in tqdm(eval_dataloader):\n",
    "      with torch.no_grad():\n",
    "          labels = batch['labels'].masked_fill(batch['labels'] == -100, 0)\n",
    "          y = batch['labels']\n",
    "          x = batch['input_ids']\n",
    "          outputs = model(x,labels)\n",
    "          loss = criterion(outputs.view(-1, outputs.shape[-1]), y.view(-1))\n",
    "          valid_loss += loss\n",
    "      \n",
    "  print(f'{epoch} valid loss {train_loss/len(eval_dataloader)}')\n",
    "    "
   ]
  }
 ],
 "metadata": {
  "kernelspec": {
   "display_name": "Python 3.8.0 ('d2l')",
   "language": "python",
   "name": "python3"
  },
  "language_info": {
   "codemirror_mode": {
    "name": "ipython",
    "version": 3
   },
   "file_extension": ".py",
   "mimetype": "text/x-python",
   "name": "python",
   "nbconvert_exporter": "python",
   "pygments_lexer": "ipython3",
   "version": "3.8.0"
  },
  "orig_nbformat": 4,
  "vscode": {
   "interpreter": {
    "hash": "5a8157aaf10863b2a25833f54889906938781f2222a5f87aac536d99914d8d6c"
   }
  }
 },
 "nbformat": 4,
 "nbformat_minor": 2
}
